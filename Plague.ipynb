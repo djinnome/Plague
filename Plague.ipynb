{
 "cells": [
  {
   "cell_type": "markdown",
   "metadata": {},
   "source": [
    "# Significant proteins identifed by MEV"
   ]
  },
  {
   "cell_type": "code",
   "execution_count": 26,
   "metadata": {
    "ExecuteTime": {
     "end_time": "2018-03-14T20:29:08.040788Z",
     "start_time": "2018-03-14T20:29:07.789501Z"
    }
   },
   "outputs": [],
   "source": [
    "import pandas as pd\n",
    "sig_late = pd.read_excel('Sig_late_031318.xlsx',sheet_name=0,index_col=0)\n",
    "\n",
    "\n",
    "org1 = 'Y_pestis_Yp4003'\n",
    "org2 = 'Y_pestis_CO92'\n",
    "bbh = pd.read_table('Y_pestis_Yp4003_and_Y_pestis_CO92_BBH.tab',index_col=org1)\n",
    "sig_late = sig_late.join(bbh)\n",
    "sig_late['$Y_pestis_CO92_proteins'] = sig_late['Y_pestis_CO92'].str.split('|').str.get(2)\n",
    "sig_late  = sig_late.reset_index().set_index('$Y_pestis_CO92_proteins')\n",
    "sig_late.to_csv('significant_proteins_late_stats.tab',sep='\\t', index=True)\n",
    "with open('significant_proteins_late_IDs.tab', 'w') as out:\n",
    "    out.write('$Protein\\n')\n",
    "    out.write('\\n'.join(sig_late.index))"
   ]
  }
 ],
 "metadata": {
  "_draft": {
   "nbviewer_url": "https://gist.github.com/4990e1987de989f48a43208a81d31d73"
  },
  "gist": {
   "data": {
    "description": "Plague/Plague.ipynb",
    "public": true
   },
   "id": "4990e1987de989f48a43208a81d31d73"
  },
  "kernelspec": {
   "display_name": "Python 3",
   "language": "python",
   "name": "python3"
  },
  "language_info": {
   "codemirror_mode": {
    "name": "ipython",
    "version": 3
   },
   "file_extension": ".py",
   "mimetype": "text/x-python",
   "name": "python",
   "nbconvert_exporter": "python",
   "pygments_lexer": "ipython3",
   "version": "3.6.1"
  },
  "toc": {
   "colors": {
    "hover_highlight": "#DAA520",
    "navigate_num": "#000000",
    "navigate_text": "#333333",
    "running_highlight": "#FF0000",
    "selected_highlight": "#FFD700",
    "sidebar_border": "#EEEEEE",
    "wrapper_background": "#FFFFFF"
   },
   "moveMenuLeft": true,
   "nav_menu": {
    "height": "29px",
    "width": "252px"
   },
   "navigate_menu": true,
   "number_sections": true,
   "sideBar": true,
   "threshold": 4,
   "toc_cell": false,
   "toc_section_display": "block",
   "toc_window_display": false,
   "widenNotebook": false
  },
  "varInspector": {
   "cols": {
    "lenName": 16,
    "lenType": 16,
    "lenVar": 40
   },
   "kernels_config": {
    "python": {
     "delete_cmd_postfix": "",
     "delete_cmd_prefix": "del ",
     "library": "var_list.py",
     "varRefreshCmd": "print(var_dic_list())"
    },
    "r": {
     "delete_cmd_postfix": ") ",
     "delete_cmd_prefix": "rm(",
     "library": "var_list.r",
     "varRefreshCmd": "cat(var_dic_list()) "
    }
   },
   "types_to_exclude": [
    "module",
    "function",
    "builtin_function_or_method",
    "instance",
    "_Feature"
   ],
   "window_display": false
  }
 },
 "nbformat": 4,
 "nbformat_minor": 2
}
